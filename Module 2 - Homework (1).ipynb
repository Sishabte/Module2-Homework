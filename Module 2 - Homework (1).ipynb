{
 "cells": [
  {
   "cell_type": "markdown",
   "id": "c209b646",
   "metadata": {},
   "source": [
    "### Homework #2"
   ]
  },
  {
   "cell_type": "markdown",
   "id": "869ebfd6",
   "metadata": {},
   "source": [
    "1. Round 4.5667 to the nearest hundreth (2 decimals) using a build-in function, round()."
   ]
  },
  {
   "cell_type": "code",
   "execution_count": 1,
   "id": "123658aa",
   "metadata": {},
   "outputs": [
    {
     "data": {
      "text/plain": [
       "4.57"
      ]
     },
     "execution_count": 1,
     "metadata": {},
     "output_type": "execute_result"
    }
   ],
   "source": [
    "round(4.5667, 2)"
   ]
  },
  {
   "cell_type": "markdown",
   "id": "9d3f352c",
   "metadata": {},
   "source": [
    "2. Convert \"657\" to an integer data type"
   ]
  },
  {
   "cell_type": "code",
   "execution_count": 2,
   "id": "d5a67683",
   "metadata": {},
   "outputs": [
    {
     "data": {
      "text/plain": [
       "657"
      ]
     },
     "execution_count": 2,
     "metadata": {},
     "output_type": "execute_result"
    }
   ],
   "source": [
    "int(\"657\")"
   ]
  },
  {
   "cell_type": "markdown",
   "id": "a36f06d4",
   "metadata": {},
   "source": [
    "3. Write a program to get two numbers from a user. Then, create a 6-digit code that is a series of randomly generated numbers between the two numbers given by the user. Print the 6-digit code so all digits are separated by a dash. "
   ]
  },
  {
   "cell_type": "code",
   "execution_count": 3,
   "id": "021c92d4",
   "metadata": {},
   "outputs": [
    {
     "name": "stdout",
     "output_type": "stream",
     "text": [
      "Enter a number: 5\n",
      "Enter another number: 9\n",
      "The secret code is: 6-6-5-5-8-7\n"
     ]
    }
   ],
   "source": [
    "import random as rand\n",
    "\n",
    "n1 = int(input(\"Enter a number: \"))\n",
    "n2 = int(input(\"Enter another number: \"))\n",
    "\n",
    "d1 = rand.randint(n1, n2)\n",
    "d2 = rand.randint(n1, n2)\n",
    "d3 = rand.randint(n1, n2)\n",
    "d4 = rand.randint(n1, n2)\n",
    "d5 = rand.randint(n1, n2)\n",
    "d6 = rand.randint(n1, n2)\n",
    "\n",
    "print(f\"The secret code is: {d1}-{d2}-{d3}-{d4}-{d5}-{d6}\")"
   ]
  },
  {
   "cell_type": "code",
   "execution_count": 12,
   "id": "4365d808",
   "metadata": {},
   "outputs": [
    {
     "name": "stdout",
     "output_type": "stream",
     "text": [
      "The Pass Code is: 6-6-5-5-8-7\n"
     ]
    }
   ],
   "source": [
    "print(f\"The Pass Code is: {d1}-{d2}-{d3}-{d4}-{d5}-{d6}\")"
   ]
  },
  {
   "cell_type": "code",
   "execution_count": 14,
   "id": "6e3a5c70",
   "metadata": {},
   "outputs": [
    {
     "ename": "SyntaxError",
     "evalue": "invalid syntax (<ipython-input-14-d5d7bc66786e>, line 1)",
     "output_type": "error",
     "traceback": [
      "\u001b[1;36m  File \u001b[1;32m\"<ipython-input-14-d5d7bc66786e>\"\u001b[1;36m, line \u001b[1;32m1\u001b[0m\n\u001b[1;33m    4. Write a program to remove ALL the white spaces from the following text:\u001b[0m\n\u001b[1;37m       ^\u001b[0m\n\u001b[1;31mSyntaxError\u001b[0m\u001b[1;31m:\u001b[0m invalid syntax\n"
     ]
    }
   ],
   "source": [
    "4. Write a program to remove ALL the white spaces from the following text:\n",
    "\n",
    "        Hickory, dickory, dock,     \n",
    "        The mouse ran up the clock.   \n",
    "        The clock struck one,   \n",
    "        The mouse ran down,                      \n",
    "        Hickory, dickory, dock   "
   ]
  },
  {
   "cell_type": "code",
   "execution_count": null,
   "id": "49b17225",
   "metadata": {},
   "outputs": [],
   "source": [
    "line1 = \"          Hickory,  dickory, dock,     \"\n",
    "line2 = \"The  mouse ran       up the  clock.\"\n",
    "line3 = \"The        clock  struck one,  \"\n",
    "line4 = \"    The  mouse  ran    down,\"\n",
    "line5 = \" Hickory, dickory,         dock    \""
   ]
  },
  {
   "cell_type": "code",
   "execution_count": null,
   "id": "8bf680f1",
   "metadata": {},
   "outputs": [],
   "source": [
    "## strip surrounding white spaces\n",
    "\n",
    "line1 = line1.strip()\n",
    "line2 = line2.strip()\n",
    "line3 = line3.strip()\n",
    "line4 = line4.strip()\n",
    "line5 = line5.strip()\n",
    "\n",
    "## replace remaining white spaces with no spaces\n",
    "\n",
    "line1 = line1.replace(\" \", \"\")\n",
    "line2 = line2.replace(\" \", \"\")\n",
    "line3 = line3.replace(\" \", \"\")\n",
    "line4 = line4.replace(\" \", \"\")\n",
    "line5 = line5.replace(\" \", \"\")"
   ]
  },
  {
   "cell_type": "code",
   "execution_count": null,
   "id": "59d9c718",
   "metadata": {},
   "outputs": [],
   "source": [
    "print(line1)\n",
    "print(line2)\n",
    "print(line3)\n",
    "print(line4)\n",
    "print(line5)"
   ]
  },
  {
   "cell_type": "markdown",
   "id": "72d87b5b",
   "metadata": {},
   "source": [
    "5. Write a function to calculate the miles per gallon. Get a miles driven and gallons used from a user and call your function to calculate the miles per gallon."
   ]
  },
  {
   "cell_type": "code",
   "execution_count": 15,
   "id": "27be7372",
   "metadata": {},
   "outputs": [
    {
     "name": "stdout",
     "output_type": "stream",
     "text": [
      "Please enter the number of miles driven:\t5000\n",
      "Please enter the number of gallons used:\t250\n",
      "\n",
      "Miles Driven per Gallon\n",
      "\n",
      "5000.0 miles / 250.0 gallons = 20.00 miles per gallon\n"
     ]
    }
   ],
   "source": [
    "def mpg():\n",
    "    miles = float(input(\"Please enter the number of miles driven:\\t\"))\n",
    "    gal = float(input(\"Please enter the number of gallons used:\\t\"))\n",
    "    mpg = miles/gal\n",
    "    print(\"\\nMiles Driven per Gallon\\n\")\n",
    "    print(f\"{miles} miles / {gal} gallons = {mpg:.2f} miles per gallon\")\n",
    "    \n",
    "## call the mpg() function \n",
    "\n",
    "mpg()"
   ]
  },
  {
   "cell_type": "markdown",
   "id": "1f3942b8",
   "metadata": {},
   "source": [
    "6. Enhance the <b>compute()</b> function created during Module 2. Enhance the function to compute a circle's area and circumference where:\n",
    "\n",
    " - circle's area = 3.14 X (radius X radius)   \n",
    " - circle's circumference = 3.14 X diameter"
   ]
  },
  {
   "cell_type": "code",
   "execution_count": null,
   "id": "df43daca",
   "metadata": {},
   "outputs": [],
   "source": [
    "# original compute() function\n",
    "\n",
    "def compute():\n",
    "    l = int(input(\"Please enter length \"))\n",
    "    w = int(input(\"Please enter width \"))\n",
    "    A = l * w\n",
    "    P = 2 * (l + w)\n",
    "    print(f\"Area is {A}\")\n",
    "    print(f\"Perimeter is {P}\")\n",
    "    \n",
    "compute()"
   ]
  },
  {
   "cell_type": "code",
   "execution_count": 16,
   "id": "fa8de89a",
   "metadata": {},
   "outputs": [
    {
     "name": "stdout",
     "output_type": "stream",
     "text": [
      "Please enter the circle radius: 5\n",
      "\n",
      "Circle Information\n",
      "The radius is: 5.0 and the diameter is: 10.0\n",
      "Area is 78.500\n",
      "Circumference is 31.400\n"
     ]
    }
   ],
   "source": [
    "# circle compute() function\n",
    "\n",
    "# pi = 3.14\n",
    "# r = radius\n",
    "# diameter = 2 * radius\n",
    "\n",
    "\n",
    "def compute():\n",
    "    r = float(input(\"Please enter the circle radius: \"))\n",
    "    pi = 3.14\n",
    "    A = pi * (r * r)\n",
    "    C = pi * (2 * r)\n",
    "    print (f\"\\nCircle Information\")\n",
    "    print (f\"The radius is: {r} and the diameter is: {2 * r}\")\n",
    "    print(f\"Area is {A:.3f}\")\n",
    "    print(f\"Circumference is {C:.3f}\")\n",
    "    \n",
    "compute()"
   ]
  },
  {
   "cell_type": "markdown",
   "id": "4c5d83bb",
   "metadata": {},
   "source": [
    "7. Write a function called multiply_two() that accepts two parameters. The function should print a message like '15 * 2 = 30'.  Randomly generate two numbers between 1 and 100, then call the function with the two random numbers."
   ]
  },
  {
   "cell_type": "code",
   "execution_count": 18,
   "id": "9f83774c",
   "metadata": {},
   "outputs": [],
   "source": [
    "def multiply_two(x, y):\n",
    "    print(f\"{x} * {y} = {x * y}\")"
   ]
  },
  {
   "cell_type": "code",
   "execution_count": 19,
   "id": "155b80c6",
   "metadata": {},
   "outputs": [
    {
     "name": "stdout",
     "output_type": "stream",
     "text": [
      "33 * 100 = 3300\n"
     ]
    }
   ],
   "source": [
    "num1 = rand.randint(1, 100)\n",
    "num2 = rand.randint(1, 100)\n",
    "\n",
    "multiply_two(num1, num2)"
   ]
  },
  {
   "cell_type": "code",
   "execution_count": null,
   "id": "80b5f005",
   "metadata": {},
   "outputs": [],
   "source": [
    "8. Create a function for a multiplication table. Get a number from a user and then call you function which produces a multiplication table for that number. The output should look something like this:\n",
    "\n",
    " Enter a number: 3\n",
    " 3 X 1 = 3\n",
    " 3 X 2 = 6\n",
    " 3 X 3 = 9\n",
    " 3 X 4 = 12\n",
    " 3 X 5 = 15\n",
    " 3 X 6 = 18\n",
    " 3 X 7 = 21\n",
    " 3 X 8 = 24\n",
    " 3 X 9 = 27"
   ]
  },
  {
   "cell_type": "code",
   "execution_count": null,
   "id": "3936dda2",
   "metadata": {},
   "outputs": [],
   "source": [
    "def mult_table(x):\n",
    "    print(f\"\\nMultiplication Table for {x}\\n\")\n",
    "    print(f\"{x} X 1 = {x * 1}\")\n",
    "    print(f\"{x} X 2 = {x * 2}\")\n",
    "    print(f\"{x} X 3 = {x * 3}\")\n",
    "    print(f\"{x} X 4 = {x * 4}\")\n",
    "    print(f\"{x} X 5 = {x * 5}\")\n",
    "    print(f\"{x} X 6 = {x * 6}\")\n",
    "    print(f\"{x} X 7 = {x * 7}\")\n",
    "    print(f\"{x} X 8 = {x * 8}\")\n",
    "    print(f\"{x} X 9 = {x * 9}\")"
   ]
  },
  {
   "cell_type": "code",
   "execution_count": null,
   "id": "1124ede4",
   "metadata": {},
   "outputs": [],
   "source": [
    "num = int(input(\"Enter a number: \"))\n",
    "\n",
    "mult_table(num)"
   ]
  },
  {
   "cell_type": "code",
   "execution_count": null,
   "id": "194041df",
   "metadata": {},
   "outputs": [],
   "source": [
    "Multiplication Table for 6\n",
    "\n",
    "6 X 1 = 6\n",
    "6 X 2 = 12\n",
    "6 X 3 = 18\n",
    "6 X 4 = 24\n",
    "6 X 5 = 30\n",
    "6 X 6 = 36\n",
    "6 X 7 = 42\n",
    "6 X 8 = 48\n",
    "6 X 9 = 54"
   ]
  }
 ],
 "metadata": {
  "celltoolbar": "Raw Cell Format",
  "kernelspec": {
   "display_name": "Python 3",
   "language": "python",
   "name": "python3"
  },
  "language_info": {
   "codemirror_mode": {
    "name": "ipython",
    "version": 3
   },
   "file_extension": ".py",
   "mimetype": "text/x-python",
   "name": "python",
   "nbconvert_exporter": "python",
   "pygments_lexer": "ipython3",
   "version": "3.8.8"
  }
 },
 "nbformat": 4,
 "nbformat_minor": 5
}
